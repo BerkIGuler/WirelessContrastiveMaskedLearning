{
 "cells": [
  {
   "cell_type": "markdown",
   "metadata": {},
   "source": [
    "## Training Demonstration for WiMAE and ContraWiMAE\n",
    "\n",
    "- This notebook demonstrates how to train both WiMAE and ContraWiMAE models\n",
    "using real wireless channel data from the pretrain folder."
   ]
  },
  {
   "cell_type": "markdown",
   "metadata": {},
   "source": [
    "#### Imports and Setup"
   ]
  },
  {
   "cell_type": "code",
   "execution_count": 1,
   "metadata": {},
   "outputs": [
    {
     "name": "stdout",
     "output_type": "stream",
     "text": [
      "All imports successful!\n",
      "PyTorch version: 2.5.1\n",
      "CUDA available: True\n"
     ]
    }
   ],
   "source": [
    "import sys\n",
    "import torch\n",
    "import numpy as np\n",
    "import yaml\n",
    "from pathlib import Path\n",
    "\n",
    "# Add parent directory to path for imports\n",
    "try:\n",
    "    # For Python scripts\n",
    "    sys.path.append(str(Path(__file__).parent.parent))\n",
    "except NameError:\n",
    "    # For Jupyter notebooks\n",
    "    sys.path.append(str(Path().cwd().parent))\n",
    "\n",
    "# WiMAE imports\n",
    "from wimae.training.train_wimae import WiMAETrainer\n",
    "# from wimae.training.train_contramae import ContraWiMAETrainer\n",
    "# from wimae.models.base import WiMAE\n",
    "# from wimae.models.contramae import ContraWiMAE\n",
    "\n",
    "print(\"All imports successful!\")\n",
    "print(f\"PyTorch version: {torch.__version__}\")\n",
    "print(f\"CUDA available: {torch.cuda.is_available()}\")"
   ]
  },
  {
   "cell_type": "markdown",
   "metadata": {},
   "source": [
    "#### Data Overview"
   ]
  },
  {
   "cell_type": "code",
   "execution_count": 2,
   "metadata": {},
   "outputs": [
    {
     "name": "stdout",
     "output_type": "stream",
     "text": [
      "Available datasets: 12 cities\n",
      "  • city_0_newyork_channels.npz: 10.0 MB\n",
      "  • city_10_austin_channels.npz: 14.5 MB\n",
      "  • city_13_columbus_channels.npz: 11.2 MB\n",
      "  • city_17_seattle_channels.npz: 11.5 MB\n",
      "  • city_1_losangeles_channels.npz: 5.8 MB\n",
      "  • city_2_chicago_channels.npz: 2.2 MB\n",
      "  • city_3_houston_channels.npz: 20.1 MB\n",
      "  • city_4_phoenix_channels.npz: 21.1 MB\n",
      "  • city_5_philadelphia_channels.npz: 4.9 MB\n",
      "  • city_6_miami_channels.npz: 13.1 MB\n",
      "  • city_8_dallas_channels.npz: 19.6 MB\n",
      "  • city_9_sanfrancisco_channels.npz: 13.0 MB\n",
      "\n",
      "Sample data structure from city_0_newyork_channels.npz:\n",
      "  • channels: (1283, 1, 32, 32) (complex64)\n",
      "  • name: () (<U14)\n",
      "  • n_rows: (2,) (int64)\n",
      "  • n_per_row: () (int64)\n",
      "  • active_bs: (1,) (int64)\n",
      "  • n_ant_bs: () (int64)\n",
      "  • n_ant_ue: () (int64)\n",
      "  • n_subcarriers: () (int64)\n",
      "  • scs: () (float64)\n",
      "  • data_folder: () (<U16)\n",
      "  • bs_rotation: (3,) (int64)\n",
      "  • enable_bs2bs: () (bool)\n",
      "  • num_paths: () (int64)\n"
     ]
    }
   ],
   "source": [
    "data_path = \"../data/pretrain\"\n",
    "npz_files = list(Path(data_path).glob(\"*.npz\"))\n",
    "\n",
    "print(f\"Available datasets: {len(npz_files)} cities\")\n",
    "for file in sorted(npz_files):\n",
    "    file_size = file.stat().st_size / (1024*1024)  # MB\n",
    "    print(f\"  • {file.name}: {file_size:.1f} MB\")\n",
    "\n",
    "# Load one file to check data structure\n",
    "with np.load(npz_files[0]) as sample_data:\n",
    "    print(f\"\\nSample data structure from {npz_files[0].name}:\")\n",
    "    for key, value in sample_data.items():\n",
    "        if hasattr(value, 'shape'):\n",
    "            print(f\"  • {key}: {value.shape} ({value.dtype})\")\n",
    "        else:\n",
    "            print(f\"  • {key}: {value}\")"
   ]
  },
  {
   "cell_type": "markdown",
   "metadata": {},
   "source": [
    "#### Configuration Setup"
   ]
  },
  {
   "cell_type": "code",
   "execution_count": 6,
   "metadata": {},
   "outputs": [
    {
     "name": "stdout",
     "output_type": "stream",
     "text": [
      "Configuration loaded successfully!\n",
      "Model type: wimae\n",
      "Encoder dimensions: 64\n",
      "Batch size: 64\n",
      "Training epochs: 3000\n",
      "Learning rate: 0.0003\n",
      "\n",
      "Adjusted for demo:\n",
      "Epochs: 10\n",
      "Batch size: 768\n",
      "Data directory: ../data/pretrain\n"
     ]
    }
   ],
   "source": [
    "config_path = \"../configs/default_training.yaml\"\n",
    "with open(config_path, 'r') as f:\n",
    "    config = yaml.safe_load(f)\n",
    "\n",
    "print(\"Configuration loaded successfully!\")\n",
    "print(f\"Model type: {config['model']['type']}\")\n",
    "print(f\"Encoder dimensions: {config['model']['encoder_dim']}\")\n",
    "print(f\"Batch size: {config['training']['batch_size']}\")\n",
    "print(f\"Training epochs: {config['training']['epochs']}\")\n",
    "print(f\"Learning rate: {config['training']['optimizer']['lr']}\")\n",
    "\n",
    "# Adjust config for demo (shorter training)\n",
    "config['training']['epochs'] = 10\n",
    "config['training']['batch_size'] = 768\n",
    "config['data']['data_dir'] = \"../data/pretrain\"\n",
    "print(f\"\\nAdjusted for demo:\")\n",
    "print(f\"Epochs: {config['training']['epochs']}\")\n",
    "print(f\"Batch size: {config['training']['batch_size']}\")\n",
    "print(f\"Data directory: {config['data']['data_dir']}\")"
   ]
  },
  {
   "cell_type": "markdown",
   "metadata": {},
   "source": [
    "#### WiMAE Training Setup"
   ]
  },
  {
   "cell_type": "code",
   "execution_count": 7,
   "metadata": {},
   "outputs": [
    {
     "name": "stdout",
     "output_type": "stream",
     "text": [
      "Setting up WiMAE training...\n",
      "WiMAE trainer initialized\n",
      "WiMAE model created:\n",
      "  • model_type: WiMAE\n",
      "  • patch_size: (1, 16)\n",
      "  • encoder_dim: 64\n",
      "  • encoder_layers: 12\n",
      "  • encoder_nhead: 16\n",
      "  • decoder_layers: 4\n",
      "  • decoder_nhead: 8\n",
      "  • mask_ratio: 0.6\n",
      "  • total_parameters: 554128\n",
      "  • trainable_parameters: 554128\n"
     ]
    }
   ],
   "source": [
    "print(\"Setting up WiMAE training...\")\n",
    "\n",
    "# Create WiMAE trainer (model will be created during initialization)\n",
    "wimae_trainer = WiMAETrainer(config=config)\n",
    "\n",
    "print(\"WiMAE trainer initialized\")\n",
    "\n",
    "# Get model information\n",
    "wimae_info = wimae_trainer.model.get_model_info()\n",
    "print(f\"WiMAE model created:\")\n",
    "for key, value in wimae_info.items():\n",
    "    print(f\"  • {key}: {value}\")\n"
   ]
  },
  {
   "cell_type": "markdown",
   "metadata": {},
   "source": [
    "####  WiMAE Training Execution"
   ]
  },
  {
   "cell_type": "code",
   "execution_count": 8,
   "metadata": {},
   "outputs": [
    {
     "name": "stdout",
     "output_type": "stream",
     "text": [
      "Starting WiMAE training...\n",
      "Total samples: 18824, dimensions: 32x32\n",
      "Loading file 1/12: city_0_newyork_channels.npz\n",
      "Loading file 2/12: city_1_losangeles_channels.npz\n",
      "Loading file 3/12: city_10_austin_channels.npz\n",
      "Loading file 4/12: city_9_sanfrancisco_channels.npz\n",
      "Loading file 5/12: city_6_miami_channels.npz\n",
      "Loading file 6/12: city_13_columbus_channels.npz\n",
      "Loading file 7/12: city_2_chicago_channels.npz\n",
      "Loading file 8/12: city_5_philadelphia_channels.npz\n",
      "Loading file 9/12: city_17_seattle_channels.npz\n",
      "Loading file 10/12: city_3_houston_channels.npz\n",
      "Loading file 11/12: city_8_dallas_channels.npz\n",
      "Loading file 12/12: city_4_phoenix_channels.npz\n",
      "Successfully loaded all 18824 samples\n",
      "Computing statistics from training dataset...\n",
      "Calculated statistics: {'real_mean': 0.046293627470731735, 'real_std': 30.634143829345703, 'imag_mean': 8.498757961206138e-05, 'imag_std': 30.665428161621094}\n",
      "Total samples: 18824, dimensions: 32x32\n",
      "Loading file 1/12: city_0_newyork_channels.npz\n",
      "Loading file 2/12: city_1_losangeles_channels.npz\n",
      "Loading file 3/12: city_10_austin_channels.npz\n",
      "Loading file 4/12: city_9_sanfrancisco_channels.npz\n",
      "Loading file 5/12: city_6_miami_channels.npz\n",
      "Loading file 6/12: city_13_columbus_channels.npz\n",
      "Loading file 7/12: city_2_chicago_channels.npz\n",
      "Loading file 8/12: city_5_philadelphia_channels.npz\n",
      "Loading file 9/12: city_17_seattle_channels.npz\n",
      "Loading file 10/12: city_3_houston_channels.npz\n",
      "Loading file 11/12: city_8_dallas_channels.npz\n",
      "Loading file 12/12: city_4_phoenix_channels.npz\n",
      "Successfully loaded all 18824 samples\n",
      "Train samples: 15060\n",
      "Validation samples: 3764\n",
      "Starting training for 10 epochs...\n",
      "Model: wimae\n",
      "Device: cuda:0\n",
      "Log directory: runs/wimae_20250802_195840\n"
     ]
    },
    {
     "name": "stderr",
     "output_type": "stream",
     "text": [
      "Training Epoch 0: 100%|██████████| 20/20 [00:09<00:00,  2.18it/s, loss=1.0563, avg_loss=1.0420]\n",
      "Validation: 100%|██████████| 5/5 [00:01<00:00,  3.37it/s]\n"
     ]
    },
    {
     "name": "stdout",
     "output_type": "stream",
     "text": [
      "Epoch 0:\n",
      "  train_loss: 1.0420\n",
      "  val_masked_loss: 1.0257\n",
      "  val_full_loss: 1.0524\n",
      "  val_loss: 1.0257\n"
     ]
    },
    {
     "name": "stderr",
     "output_type": "stream",
     "text": [
      "Training Epoch 1: 100%|██████████| 20/20 [00:08<00:00,  2.26it/s, loss=0.9924, avg_loss=1.0091]\n",
      "Validation: 100%|██████████| 5/5 [00:01<00:00,  3.54it/s]\n"
     ]
    },
    {
     "name": "stdout",
     "output_type": "stream",
     "text": [
      "Epoch 1:\n",
      "  train_loss: 1.0091\n",
      "  val_masked_loss: 1.0233\n",
      "  val_full_loss: 1.0441\n",
      "  val_loss: 1.0233\n"
     ]
    },
    {
     "name": "stderr",
     "output_type": "stream",
     "text": [
      "Training Epoch 2: 100%|██████████| 20/20 [00:08<00:00,  2.26it/s, loss=1.0394, avg_loss=1.0051]\n",
      "Validation: 100%|██████████| 5/5 [00:01<00:00,  3.53it/s]\n"
     ]
    },
    {
     "name": "stdout",
     "output_type": "stream",
     "text": [
      "Epoch 2:\n",
      "  train_loss: 1.0051\n",
      "  val_masked_loss: 1.0226\n",
      "  val_full_loss: 1.0415\n",
      "  val_loss: 1.0226\n"
     ]
    },
    {
     "name": "stderr",
     "output_type": "stream",
     "text": [
      "Training Epoch 3: 100%|██████████| 20/20 [00:08<00:00,  2.26it/s, loss=0.7471, avg_loss=1.0001]\n",
      "Validation: 100%|██████████| 5/5 [00:01<00:00,  3.54it/s]\n"
     ]
    },
    {
     "name": "stdout",
     "output_type": "stream",
     "text": [
      "Epoch 3:\n",
      "  train_loss: 1.0001\n",
      "  val_masked_loss: 1.0265\n",
      "  val_full_loss: 1.0408\n",
      "  val_loss: 1.0265\n"
     ]
    },
    {
     "name": "stderr",
     "output_type": "stream",
     "text": [
      "Training Epoch 4: 100%|██████████| 20/20 [00:08<00:00,  2.26it/s, loss=1.1554, avg_loss=1.0061]\n",
      "Validation: 100%|██████████| 5/5 [00:01<00:00,  3.55it/s]\n"
     ]
    },
    {
     "name": "stdout",
     "output_type": "stream",
     "text": [
      "Epoch 4:\n",
      "  train_loss: 1.0061\n",
      "  val_masked_loss: 1.0225\n",
      "  val_full_loss: 1.0408\n",
      "  val_loss: 1.0225\n"
     ]
    },
    {
     "name": "stderr",
     "output_type": "stream",
     "text": [
      "Training Epoch 5: 100%|██████████| 20/20 [00:08<00:00,  2.26it/s, loss=0.9776, avg_loss=1.0007]\n",
      "Validation: 100%|██████████| 5/5 [00:01<00:00,  3.55it/s]\n"
     ]
    },
    {
     "name": "stdout",
     "output_type": "stream",
     "text": [
      "Epoch 5:\n",
      "  train_loss: 1.0007\n",
      "  val_masked_loss: 1.0244\n",
      "  val_full_loss: 1.0425\n",
      "  val_loss: 1.0244\n"
     ]
    },
    {
     "name": "stderr",
     "output_type": "stream",
     "text": [
      "Training Epoch 6: 100%|██████████| 20/20 [00:08<00:00,  2.25it/s, loss=0.9933, avg_loss=0.9997]\n",
      "Validation: 100%|██████████| 5/5 [00:01<00:00,  3.57it/s]\n"
     ]
    },
    {
     "name": "stdout",
     "output_type": "stream",
     "text": [
      "Epoch 6:\n",
      "  train_loss: 0.9997\n",
      "  val_masked_loss: 1.0248\n",
      "  val_full_loss: 1.0447\n",
      "  val_loss: 1.0248\n"
     ]
    },
    {
     "name": "stderr",
     "output_type": "stream",
     "text": [
      "Training Epoch 7: 100%|██████████| 20/20 [00:08<00:00,  2.25it/s, loss=1.0601, avg_loss=1.0009]\n",
      "Validation: 100%|██████████| 5/5 [00:01<00:00,  3.53it/s]\n"
     ]
    },
    {
     "name": "stdout",
     "output_type": "stream",
     "text": [
      "Epoch 7:\n",
      "  train_loss: 1.0009\n",
      "  val_masked_loss: 1.0209\n",
      "  val_full_loss: 1.0459\n",
      "  val_loss: 1.0209\n"
     ]
    },
    {
     "name": "stderr",
     "output_type": "stream",
     "text": [
      "Training Epoch 8: 100%|██████████| 20/20 [00:08<00:00,  2.25it/s, loss=1.1602, avg_loss=1.0022]\n",
      "Validation: 100%|██████████| 5/5 [00:01<00:00,  3.55it/s]\n"
     ]
    },
    {
     "name": "stdout",
     "output_type": "stream",
     "text": [
      "Epoch 8:\n",
      "  train_loss: 1.0022\n",
      "  val_masked_loss: 1.0235\n",
      "  val_full_loss: 1.0478\n",
      "  val_loss: 1.0235\n"
     ]
    },
    {
     "name": "stderr",
     "output_type": "stream",
     "text": [
      "Training Epoch 9: 100%|██████████| 20/20 [00:08<00:00,  2.25it/s, loss=0.8612, avg_loss=0.9964]\n",
      "Validation: 100%|██████████| 5/5 [00:01<00:00,  3.52it/s]"
     ]
    },
    {
     "name": "stdout",
     "output_type": "stream",
     "text": [
      "Epoch 9:\n",
      "  train_loss: 0.9964\n",
      "  val_masked_loss: 1.0204\n",
      "  val_full_loss: 1.0495\n",
      "  val_loss: 1.0204\n",
      "Training completed!\n",
      "WiMAE training completed successfully!\n"
     ]
    },
    {
     "name": "stderr",
     "output_type": "stream",
     "text": [
      "\n"
     ]
    }
   ],
   "source": [
    "print(\"Starting WiMAE training...\")\n",
    "\n",
    "try:\n",
    "    # Start training (dataloaders will be set up automatically)\n",
    "    wimae_trainer.train()\n",
    "    print(\"WiMAE training completed successfully!\")\n",
    "    \n",
    "except Exception as e:\n",
    "    print(f\"Training failed: {e}\")\n",
    "    print(\"This is expected in a demo - check your data paths and configuration\")"
   ]
  },
  {
   "cell_type": "code",
   "execution_count": null,
   "metadata": {},
   "outputs": [],
   "source": []
  }
 ],
 "metadata": {
  "kernelspec": {
   "display_name": "lwm",
   "language": "python",
   "name": "python3"
  },
  "language_info": {
   "codemirror_mode": {
    "name": "ipython",
    "version": 3
   },
   "file_extension": ".py",
   "mimetype": "text/x-python",
   "name": "python",
   "nbconvert_exporter": "python",
   "pygments_lexer": "ipython3",
   "version": "3.11.11"
  }
 },
 "nbformat": 4,
 "nbformat_minor": 2
}
